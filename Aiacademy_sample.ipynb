{
  "nbformat": 4,
  "nbformat_minor": 0,
  "metadata": {
    "colab": {
      "name": "Aiacademy_sample.ipynb",
      "provenance": [],
      "collapsed_sections": [],
      "include_colab_link": true
    },
    "kernelspec": {
      "name": "python3",
      "display_name": "Python 3"
    },
    "accelerator": "GPU"
  },
  "cells": [
    {
      "cell_type": "markdown",
      "metadata": {
        "id": "view-in-github",
        "colab_type": "text"
      },
      "source": [
        "<a href=\"https://colab.research.google.com/github/sasakurai/hajimetenoAI/blob/master/Aiacademy_sample.ipynb\" target=\"_parent\"><img src=\"https://colab.research.google.com/assets/colab-badge.svg\" alt=\"Open In Colab\"/></a>"
      ]
    },
    {
      "cell_type": "code",
      "metadata": {
        "id": "F8IBvQC_X28o",
        "colab_type": "code",
        "outputId": "053e0cfb-dcbc-489a-ff73-4ba7b904511b",
        "colab": {
          "base_uri": "https://localhost:8080/",
          "height": 34
        }
      },
      "source": [
        "print(\"hello,Python\")"
      ],
      "execution_count": 0,
      "outputs": [
        {
          "output_type": "stream",
          "text": [
            "hello,Python\n"
          ],
          "name": "stdout"
        }
      ]
    },
    {
      "cell_type": "code",
      "metadata": {
        "id": "UZw7xp94YHpv",
        "colab_type": "code",
        "outputId": "b1ee4374-f1c7-41ce-bec9-7eecd2f290ed",
        "colab": {
          "base_uri": "https://localhost:8080/",
          "height": 265
        }
      },
      "source": [
        "import numpy as np\n",
        "import matplotlib.pyplot as plt\n",
        "\n",
        "x = np.arange(0, 10, 0.1)\n",
        "plt.plot(x)\n",
        "plt.show()"
      ],
      "execution_count": 0,
      "outputs": [
        {
          "output_type": "display_data",
          "data": {
            "image/png": "[encoded data removed]",
            "text/plain": [
              "<Figure size 432x288 with 1 Axes>"
            ]
          },
          "metadata": {
            "tags": []
          }
        }
      ]
    },
    {
      "cell_type": "code",
      "metadata": {
        "id": "SUABXeJvY9DI",
        "colab_type": "code",
        "colab": {}
      },
      "source": [
        "import tensorflow as tf\n",
        "tf.test.gpu_device_name()"
      ],
      "execution_count": 0,
      "outputs": []
    },
    {
      "cell_type": "code",
      "metadata": {
        "id": "7j7tas2eZUcR",
        "colab_type": "code",
        "colab": {}
      },
      "source": [
        "!cat /proc/cpuinfo\n",
        "\n",
        "!cat /proc/meminfo"
      ],
      "execution_count": 0,
      "outputs": []
    },
    {
      "cell_type": "code",
      "metadata": {
        "id": "5HHTZOCvcCsG",
        "colab_type": "code",
        "outputId": "10399003-1010-490a-e0ba-c5cd33145e70",
        "colab": {
          "base_uri": "https://localhost:8080/",
          "height": 34
        }
      },
      "source": [
        "from sklearn import datasets\n",
        "from sklearn import svm\n",
        "\n",
        "# Irisの測定データの読み込み\n",
        "iris = datasets.load_iris()\n",
        "\n",
        "# print(iris.data)\n",
        "# print(iris.data.shape) # 形状のデータ\n",
        "\n",
        "# データ数\n",
        "# num = len(iris.data)\n",
        "# print(num)\n",
        "\n",
        "\"\"\"\n",
        "冒頭のはじめににも書きました通り、現在のテキストのコードでワーニングが出る場合があります。\n",
        "ワーニングは致命的なエラーではないので、動作には問題ありません。そのため一旦気にせず進めてください。\n",
        "\"\"\"\n",
        "clf = svm.SVC(gamma=\"auto\")\n",
        "clf.fit(iris.data, iris.target)\n",
        "\n",
        "print(clf.predict([[1.4, 1.8, 3.9, 0.5]]))"
      ],
      "execution_count": 0,
      "outputs": [
        {
          "output_type": "stream",
          "text": [
            "[2]\n"
          ],
          "name": "stdout"
        }
      ]
    },
    {
      "cell_type": "code",
      "metadata": {
        "id": "wk9Q_xD_eLGQ",
        "colab_type": "code",
        "outputId": "412e621f-7097-4428-eb26-4cfbd5d4fe2b",
        "colab": {
          "base_uri": "https://localhost:8080/",
          "height": 105
        }
      },
      "source": [
        "\"\"\"\n",
        "from sklearn import datasets\n",
        "from sklearn import svm\n",
        "\n",
        "# Irisの測定データの読み込み\n",
        "iris = datasets.load_iris()\n",
        "clf = svm.SVC()\n",
        "clf.fit(iris.data, iris.target)\n",
        "print(clf.predict([[1.4, 3.5, 5.1, 0.2], [6.5, 2.6, 4.4, 1.4], [5.9, 3.0, 5.2, 1.5]]))\n",
        "\"\"\"\n",
        "\n",
        "from sklearn.model_selection import train_test_split\n",
        "from sklearn.ensemble import RandomForestClassifier\n",
        "from sklearn import svm\n",
        "from sklearn.metrics import accuracy_score\n",
        "\n",
        "# データの読み込み\n",
        "iris = datasets.load_iris()\n",
        "x, y = iris.data, iris.target\n",
        "\n",
        "# トレーニングデータとテストデータに分ける\n",
        "x_train, x_test, y_train, y_test = train_test_split(x, y, random_state=1)\n",
        "\n",
        "# モデルの選択\n",
        "model = svm.SVC()\n",
        "# 学習\n",
        "model.fit(x_train, y_train)\n",
        "\n",
        "# 評価\n",
        "pred = model.predict(x_test)\n",
        "print(accuracy_score(y_test, pred))\n",
        "\n",
        "# 学習済みモデルを使う\n",
        "print(model.predict([[1.4, 3.5, 5.1, 0.2]]))\n",
        "\n",
        "# 次のように、複数渡すことも可能\n",
        "# print(model.predict([[1.4, 3.5, 5.1, 0.2], [6.5, 2.6, 4.4, 1.4], [5.9, 3.0, 5.2, 1.5]]))"
      ],
      "execution_count": 0,
      "outputs": [
        {
          "output_type": "stream",
          "text": [
            "0.9736842105263158\n",
            "[2]\n"
          ],
          "name": "stdout"
        },
        {
          "output_type": "stream",
          "text": [
            "/usr/local/lib/python3.6/dist-packages/sklearn/svm/base.py:193: FutureWarning: The default value of gamma will change from 'auto' to 'scale' in version 0.22 to account better for unscaled features. Set gamma explicitly to 'auto' or 'scale' to avoid this warning.\n",
            "  \"avoid this warning.\", FutureWarning)\n"
          ],
          "name": "stderr"
        }
      ]
    },
    {
      "cell_type": "code",
      "metadata": {
        "id": "pk3ssE9gme9-",
        "colab_type": "code",
        "outputId": "5f3a4396-2716-4483-d70d-1cb0f3e12de0",
        "colab": {
          "base_uri": "https://localhost:8080/",
          "height": 136
        }
      },
      "source": [
        "import numpy as np\n",
        "\n",
        "x=np.array([1.0,2.0,3.0,4.0,5,0])\n",
        "print(x)\n",
        "# array()は、Pythonのリストを渡すことでNumPy 用の配列(numpy.ndarray)を生成します。\n",
        "\n",
        "x=np.array([1,2,3])\n",
        "print(x)\n",
        "print(type(x))\n",
        "\n",
        "my_list1=[1,2,3,4,5]\n",
        "my_array1=np.array(my_list1)# numpyのarrayを作る\n",
        "\n",
        "my_list2 = [10,20,30,40,50]\n",
        "my_lists = [my_list1, my_list2] # リストのリストを作る。\n",
        "#my_lists # [[1, 2, 3, 4, 5], [10, 20, 30, 40, 50]] # リストのリストが完成。\n",
        "\n",
        "# my_listsを使ってNumPyのアレイを使る。（多次元配列を作る）\n",
        "my_array2 = np.array(my_lists)\n",
        "print(my_array2) # 2行5列の配列ができる。\n",
        "\"\"\"\n",
        "array([[ 1,  2,  3,  4,  5],\n",
        "       [10, 20, 30, 40, 50]])\n",
        "\"\"\"\n",
        "\n",
        "a = np.array([1, 2, 3, 4])\n",
        "print(a.shape) # (4,)が出力される。これは1次元配列でかつ、4つ要素があることを意味します。\n",
        "\n",
        "b = np.array([[1, 2],[3,4]])\n",
        "print(b.shape) # (2, 2) これは行列で、2行2列を意味しています。\n"
      ],
      "execution_count": 0,
      "outputs": [
        {
          "output_type": "stream",
          "text": [
            "[1. 2. 3. 4. 5. 0.]\n",
            "[1 2 3]\n",
            "<class 'numpy.ndarray'>\n",
            "[[ 1  2  3  4  5]\n",
            " [10 20 30 40 50]]\n",
            "(4,)\n",
            "(2, 2)\n"
          ],
          "name": "stdout"
        }
      ]
    },
    {
      "cell_type": "code",
      "metadata": {
        "id": "7lSz9wfxmhJU",
        "colab_type": "code",
        "outputId": "fa49fa52-bf70-4daa-8b1c-726c69f788d6",
        "colab": {
          "base_uri": "https://localhost:8080/",
          "height": 340
        }
      },
      "source": [
        "# データの準備\n",
        "# 等間隔の数字\n",
        "# 0から9までの数字(配列)を生成\n",
        "x = np.arange(10)\n",
        "print(x)\n",
        "\n",
        "# reshape()は配列を形状に変換します\n",
        "x = np.arange(1, 10).reshape(3,3) # 3×3の多次元配列に変換\n",
        "y = np.arange(1, 10).reshape(3,3) # 3×3の多次元配列に変換\n",
        "\"\"\"\n",
        "xを下記のように書き換えることも可能\n",
        "x = np.reshape(x, (3,3))\n",
        "\"\"\"\n",
        "print(x)\n",
        "print(y)\n",
        "\n",
        "print(\"x+y\")\n",
        "print(x + y)\n",
        "print(\"x-y\")\n",
        "print(x - y)\n",
        "print(\"x*y\")\n",
        "print(x * y)"
      ],
      "execution_count": 0,
      "outputs": [
        {
          "output_type": "stream",
          "text": [
            "[0 1 2 3 4 5 6 7 8 9]\n",
            "[[1 2 3]\n",
            " [4 5 6]\n",
            " [7 8 9]]\n",
            "[[1 2 3]\n",
            " [4 5 6]\n",
            " [7 8 9]]\n",
            "x+y\n",
            "[[ 2  4  6]\n",
            " [ 8 10 12]\n",
            " [14 16 18]]\n",
            "x-y\n",
            "[[0 0 0]\n",
            " [0 0 0]\n",
            " [0 0 0]]\n",
            "x*y\n",
            "[[ 1  4  9]\n",
            " [16 25 36]\n",
            " [49 64 81]]\n"
          ],
          "name": "stdout"
        }
      ]
    },
    {
      "cell_type": "code",
      "metadata": {
        "id": "MQh5kI2xs4Tr",
        "colab_type": "code",
        "outputId": "31a4f0d5-3116-43af-8b68-6aa6309ee655",
        "colab": {
          "base_uri": "https://localhost:8080/",
          "height": 170
        }
      },
      "source": [
        "import numpy as np\n",
        "sample_array = np.arange(10)\n",
        "print(sample_array)\n",
        "\n",
        "# reshapeを使って配列の形状を指定\n",
        "sample_array2 = sample_array.reshape(2,5)\n",
        "print(sample_array2) #array(([0,1,2,3,4],[5,6,7,8,9]])\n",
        "\n",
        "# concatenateを使って、データの結合する(axisで行方向か、縦方向を指定可能)\n",
        "sample_array3 = np.array([[1,2,3],[4,5,6]])\n",
        "sample_array4 = np.array([[7,8,9],[10,11,12]])\n",
        "\n",
        "# 行方向に結合 ([[1,2,3,7,8,9],4,5,6,10,11,12]])\n",
        "print(np.concatenate([sample_array3,sample_array4],axis=1))\n",
        "# # hstackでも行方向の結合が可能\n",
        "# print(np.hstack((sample_array3,sample_array4)))\n",
        "\"\"\"\n",
        "axis=0で列方向\n",
        "axis=1で行方向です。\n",
        "下記URLを参考ください。\n",
        "https://qiita.com/shuetsu@github/items/2bf8bba233c5ecc7a0ad\n",
        "\"\"\"\n",
        "\n",
        "# axisに0を設定しているので、列方向 ([[1,2,3],[4,5,6],[7,8,9],[10,11,12]])\n",
        "print(np.concatenate([sample_array3,sample_array4],axis=0))\n",
        "# # vstackで列方向の結合が可能\n",
        "# print(np.vstack((sample_array3,sample_array4)))\n"
      ],
      "execution_count": 0,
      "outputs": [
        {
          "output_type": "stream",
          "text": [
            "[0 1 2 3 4 5 6 7 8 9]\n",
            "[[0 1 2 3 4]\n",
            " [5 6 7 8 9]]\n",
            "[[ 1  2  3  7  8  9]\n",
            " [ 4  5  6 10 11 12]]\n",
            "[[ 1  2  3]\n",
            " [ 4  5  6]\n",
            " [ 7  8  9]\n",
            " [10 11 12]]\n"
          ],
          "name": "stdout"
        }
      ]
    },
    {
      "cell_type": "code",
      "metadata": {
        "id": "TJJSEtKKuyfk",
        "colab_type": "code",
        "outputId": "ee72d1fa-c5e1-4574-9364-a73db0369723",
        "colab": {
          "base_uri": "https://localhost:8080/",
          "height": 51
        }
      },
      "source": [
        "import numpy as np\n",
        "# データの準備\n",
        "sample_array = np.arange(10)\n",
        "print(sample_array)\n",
        "\n",
        "# 上記の配列に「5」を足す計算\n",
        "# 要素をコピーして大きさを揃えて、配列の全ての要素に5を加算\n",
        "print(sample_array + 5)"
      ],
      "execution_count": 0,
      "outputs": [
        {
          "output_type": "stream",
          "text": [
            "[0 1 2 3 4 5 6 7 8 9]\n",
            "[ 5  6  7  8  9 10 11 12 13 14]\n"
          ],
          "name": "stdout"
        }
      ]
    },
    {
      "cell_type": "code",
      "metadata": {
        "id": "b-cbXiNkvbmQ",
        "colab_type": "code",
        "outputId": "80087132-4b25-42b1-8cb1-8709ec42243c",
        "colab": {
          "base_uri": "https://localhost:8080/",
          "height": 102
        }
      },
      "source": [
        "import numpy as np\n",
        "\n",
        "n1 = np.array([1,2,3,4,5])\n",
        "print(n1) # [1 2 3 4 5]\n",
        "\n",
        "# 配列の次元数は np.ndim() 関数で取得可能\n",
        "np.ndim(n1) # 1 -> 1次元\n",
        "\n",
        "# 配列の形状取得にはshapeを使う。タプルでかえってくる\n",
        "n1.shape # (5,) # 変数n1の形状を取得\n",
        "\n",
        "n2 = np.array([[1,2], [3,4], [5,6]])\n",
        "print(n2)\n",
        "\n",
        "\"\"\"\n",
        "[[1 2]\n",
        " [3 4]\n",
        " [5 6]]\n",
        "\"\"\"\n",
        "# 配列の次元数は np.ndim() 関数で取得可能\n",
        "print(n2.ndim) # 2"
      ],
      "execution_count": 0,
      "outputs": [
        {
          "output_type": "stream",
          "text": [
            "[1 2 3 4 5]\n",
            "[[1 2]\n",
            " [3 4]\n",
            " [5 6]]\n",
            "2\n"
          ],
          "name": "stdout"
        }
      ]
    },
    {
      "cell_type": "code",
      "metadata": {
        "id": "PO-k7dLejXUR",
        "colab_type": "code",
        "outputId": "237b3376-065a-4f32-ad55-697472f499c3",
        "colab": {
          "base_uri": "https://localhost:8080/",
          "height": 102
        }
      },
      "source": [
        "import pandas as pd\n",
        "# from pandas import Series\n",
        "\n",
        "\n",
        "s1 = pd.Series([1,2,3,5])\n",
        "print(s1)"
      ],
      "execution_count": 0,
      "outputs": [
        {
          "output_type": "stream",
          "text": [
            "0    1\n",
            "1    2\n",
            "2    3\n",
            "3    5\n",
            "dtype: int64\n"
          ],
          "name": "stdout"
        }
      ]
    },
    {
      "cell_type": "code",
      "metadata": {
        "id": "8MZBmyrDj5FN",
        "colab_type": "code",
        "outputId": "920e5968-e188-4f63-b140-515782eacdd4",
        "colab": {
          "base_uri": "https://localhost:8080/",
          "height": 306
        }
      },
      "source": [
        "import pandas as pd\n",
        "df = pd.DataFrame({\n",
        "    '名前' :['田中', '山田', '高橋'],\n",
        "    '役割' : ['営業部長', '広報部', '技術責任者'],\n",
        "    '身長' : [178, 173, 169]\n",
        "    })\n",
        "print(df)\n",
        "print(df.dtypes)#dtypes\n",
        "\n",
        "print(df.columns) # 列ラベルの確認(辞書型のkeyが列ラベル）\n",
        "\n",
        "df2 = pd.DataFrame(df, columns=[\"名前\", \"身長\", \"役割\"]) \n",
        "# データフレーム生成時に対応するデータを持っていない場合、そのデータの列にはNaNが割り当てられます。\n",
        "print(df2)\n",
        "\n",
        "# また下記のようにすることで、カラムの名称を変更・置換可能です\n",
        "df.columns = [\"Name\", \"Position\", \"height\"]\n",
        "print(df)"
      ],
      "execution_count": 0,
      "outputs": [
        {
          "output_type": "stream",
          "text": [
            "   名前     役割   身長\n",
            "0  田中   営業部長  178\n",
            "1  山田    広報部  173\n",
            "2  高橋  技術責任者  169\n",
            "名前    object\n",
            "役割    object\n",
            "身長     int64\n",
            "dtype: object\n",
            "Index(['名前', '役割', '身長'], dtype='object')\n",
            "   名前   身長     役割\n",
            "0  田中  178   営業部長\n",
            "1  山田  173    広報部\n",
            "2  高橋  169  技術責任者\n",
            "  Name Position  height\n",
            "0   田中     営業部長     178\n",
            "1   山田      広報部     173\n",
            "2   高橋    技術責任者     169\n"
          ],
          "name": "stdout"
        }
      ]
    },
    {
      "cell_type": "code",
      "metadata": {
        "id": "5YJ9DtFekpSx",
        "colab_type": "code",
        "outputId": "3fdc8be3-5c4f-4666-fc4b-cf7c53c5c584",
        "colab": {
          "base_uri": "https://localhost:8080/",
          "height": 235
        }
      },
      "source": [
        "import pandas as pd\n",
        "import numpy as np\n",
        "df = pd.DataFrame(np.random.randn(20,2))\n",
        "df.head() # 先頭から5件\n",
        "df.tail()   # 末尾から5件\n",
        "\n",
        "df.head().append(df.tail()) # 先頭から5件と末尾から5件の計10件を取得\n",
        "df.head(3).append(df.tail(3)) # 先頭から3件と末尾から3件の計6件を取得\n"
      ],
      "execution_count": 0,
      "outputs": [
        {
          "output_type": "execute_result",
          "data": {
            "text/html": [
              "<div>\n",
              "<style scoped>\n",
              "    .dataframe tbody tr th:only-of-type {\n",
              "        vertical-align: middle;\n",
              "    }\n",
              "\n",
              "    .dataframe tbody tr th {\n",
              "        vertical-align: top;\n",
              "    }\n",
              "\n",
              "    .dataframe thead th {\n",
              "        text-align: right;\n",
              "    }\n",
              "</style>\n",
              "<table border=\"1\" class=\"dataframe\">\n",
              "  <thead>\n",
              "    <tr style=\"text-align: right;\">\n",
              "      <th></th>\n",
              "      <th>0</th>\n",
              "      <th>1</th>\n",
              "    </tr>\n",
              "  </thead>\n",
              "  <tbody>\n",
              "    <tr>\n",
              "      <th>0</th>\n",
              "      <td>-0.484863</td>\n",
              "      <td>0.417939</td>\n",
              "    </tr>\n",
              "    <tr>\n",
              "      <th>1</th>\n",
              "      <td>-1.708301</td>\n",
              "      <td>-1.270018</td>\n",
              "    </tr>\n",
              "    <tr>\n",
              "      <th>2</th>\n",
              "      <td>0.414029</td>\n",
              "      <td>-0.680305</td>\n",
              "    </tr>\n",
              "    <tr>\n",
              "      <th>17</th>\n",
              "      <td>-0.491188</td>\n",
              "      <td>-0.190489</td>\n",
              "    </tr>\n",
              "    <tr>\n",
              "      <th>18</th>\n",
              "      <td>1.063711</td>\n",
              "      <td>-0.546409</td>\n",
              "    </tr>\n",
              "    <tr>\n",
              "      <th>19</th>\n",
              "      <td>0.276140</td>\n",
              "      <td>0.024000</td>\n",
              "    </tr>\n",
              "  </tbody>\n",
              "</table>\n",
              "</div>"
            ],
            "text/plain": [
              "           0         1\n",
              "0  -0.484863  0.417939\n",
              "1  -1.708301 -1.270018\n",
              "2   0.414029 -0.680305\n",
              "17 -0.491188 -0.190489\n",
              "18  1.063711 -0.546409\n",
              "19  0.276140  0.024000"
            ]
          },
          "metadata": {
            "tags": []
          },
          "execution_count": 19
        }
      ]
    },
    {
      "cell_type": "code",
      "metadata": {
        "id": "vH8FawhElj9U",
        "colab_type": "code",
        "outputId": "35923eea-100c-45aa-ab5f-6d11fbb0d817",
        "colab": {
          "base_uri": "https://localhost:8080/",
          "height": 255
        }
      },
      "source": [
        "import pandas as pd\n",
        "df = pd.DataFrame([[10, 20, 30], [25, 50, 75]], index=[\"1行\", \"2行\"], columns=[\"1列\", \"2列\", \"3列\"])\n",
        "\n",
        "print(\"行を指定\")\n",
        "print(df.loc[\"1行\",:])\n",
        "\n",
        "print(\"列を指定\")\n",
        "print(df.loc[: , [\"1列\", \"2列\"]])\n",
        "\n",
        "#行と列指定\n",
        "print(\"行と列指定\")\n",
        "print(df.loc[\"1行\", \"1列\"])\n",
        "\n",
        "# df.iloc[行, 列]\n",
        "print(\"df.iloc[行, 列]\")\n",
        "print(df.iloc[1:2,:2])# index指定が可能\n",
        "#スライス的な感じここだと、１行から２行までになるから２行目だけ表示、:2なので２列目まで表示\n"
      ],
      "execution_count": 0,
      "outputs": [
        {
          "output_type": "stream",
          "text": [
            "行を指定\n",
            "1列    10\n",
            "2列    20\n",
            "3列    30\n",
            "Name: 1行, dtype: int64\n",
            "列を指定\n",
            "    1列  2列\n",
            "1行  10  20\n",
            "2行  25  50\n",
            "行と列指定\n",
            "10\n",
            "df.iloc[行, 列]\n",
            "    1列  2列\n",
            "2行  25  50\n"
          ],
          "name": "stdout"
        }
      ]
    },
    {
      "cell_type": "code",
      "metadata": {
        "id": "uXU6NkfqsUSU",
        "colab_type": "code",
        "outputId": "0b84dc29-8331-474c-b2c9-104a49c4b4e5",
        "colab": {
          "base_uri": "https://localhost:8080/",
          "height": 102
        }
      },
      "source": [
        "import pandas as pd\n",
        "df = pd.DataFrame([[10, 20,30, 30], [25, 50,65, 80]], index=[\"1行\", \"2行\"], columns=[\"A\", \"B\", \"C\", \"D\"])\n",
        "print(df)\n",
        "\n",
        "print(df.query('A >= 5 and C <= 50'))"
      ],
      "execution_count": 27,
      "outputs": [
        {
          "output_type": "stream",
          "text": [
            "     A   B   C   D\n",
            "1行  10  20  30  30\n",
            "2行  25  50  65  80\n",
            "     A   B   C   D\n",
            "1行  10  20  30  30\n"
          ],
          "name": "stdout"
        }
      ]
    },
    {
      "cell_type": "code",
      "metadata": {
        "id": "VdOw64AEj6OR",
        "colab_type": "code",
        "colab": {
          "base_uri": "https://localhost:8080/",
          "height": 377
        },
        "outputId": "3e306897-b2db-4eef-e969-47b6810c7c5c"
      },
      "source": [
        "import pandas as pd\n",
        "data = pd.read_csv(\"https://aiacademy.jp/dataset/sample_data.csv\",\n",
        "                   encoding=\"cp932\",\n",
        "                   skiprows=0,  # n行読み飛ばす\n",
        "                   )\n",
        "\n",
        "print(data)\n",
        "print(type(data))   # <class 'pandas.core.frame.DataFrame'>\n",
        "print(data.dtypes)\n",
        "\n",
        "\"\"\"\n",
        "エクセルの場合は下記のように使います。\n",
        ".read_excel(\"任意のファイル名.xlsx\",encoding='utf8')\n",
        "\"\"\""
      ],
      "execution_count": 4,
      "outputs": [
        {
          "output_type": "stream",
          "text": [
            "      A    B    C    D\n",
            "0    a0   b0   c0   d0\n",
            "1    a1   b1   c1   d1\n",
            "2    a2   b2   c2   d2\n",
            "3    a3   b3   c3   d3\n",
            "4    a4   b4   c4   d4\n",
            "5    a5   b5   c5   d5\n",
            "6    a6   b6   c6   d6\n",
            "7    a7   b7   c7   d7\n",
            "8    a8   b8   c8   d8\n",
            "9    a9   b9   c9   d9\n",
            "10  a10  b10  c10  d10\n",
            "11  a11  b11  c11  d11\n",
            "<class 'pandas.core.frame.DataFrame'>\n",
            "A    object\n",
            "B    object\n",
            "C    object\n",
            "D    object\n",
            "dtype: object\n"
          ],
          "name": "stdout"
        },
        {
          "output_type": "execute_result",
          "data": {
            "text/plain": [
              "'\\nエクセルの場合は下記のように使います。\\n.read_excel(\"任意のファイル名.xlsx\",encoding=\\'utf8\\')\\n'"
            ]
          },
          "metadata": {
            "tags": []
          },
          "execution_count": 4
        }
      ]
    },
    {
      "cell_type": "code",
      "metadata": {
        "id": "NTXhThyzzvED",
        "colab_type": "code",
        "outputId": "31d9a5b4-4f96-41ee-ad4b-683b49837071",
        "colab": {
          "base_uri": "https://localhost:8080/",
          "height": 731
        }
      },
      "source": [
        "import pandas as pd\n",
        "import numpy as np\n",
        "df = pd.DataFrame(np.random.randn(20,2)) #20行2列のランダムな数のデータフレーム\n",
        "print(df.sort_index(ascending=False)) # 降順\n",
        "\n",
        "print(df.sort_values(by=1))# key(カラム名)が1の昇順(小さい順)でソート\n",
        "# df.sort_values(by=1, ascending=False)  # keyが1の降順(大きい順)でソート"
      ],
      "execution_count": 25,
      "outputs": [
        {
          "output_type": "stream",
          "text": [
            "           0         1\n",
            "19  0.075160  0.256968\n",
            "18  0.008498 -0.745590\n",
            "17  2.088756  1.118325\n",
            "16  2.432503 -0.125710\n",
            "15 -1.694670 -0.190377\n",
            "14 -0.316076  0.777628\n",
            "13 -0.946066 -0.292762\n",
            "12  1.537912  0.340183\n",
            "11 -1.319749  1.281707\n",
            "10  3.017218 -0.207403\n",
            "9  -1.498580  0.758754\n",
            "8  -0.577516  0.350865\n",
            "7  -1.400377 -0.279836\n",
            "6   0.105005  2.571382\n",
            "5   1.786449  0.966908\n",
            "4   2.441667 -1.059781\n",
            "3  -0.615470 -0.763081\n",
            "2  -0.925532  0.067722\n",
            "1   1.273879  0.716188\n",
            "0  -0.879657  0.326835\n",
            "           0         1\n",
            "4   2.441667 -1.059781\n",
            "3  -0.615470 -0.763081\n",
            "18  0.008498 -0.745590\n",
            "13 -0.946066 -0.292762\n",
            "7  -1.400377 -0.279836\n",
            "10  3.017218 -0.207403\n",
            "15 -1.694670 -0.190377\n",
            "16  2.432503 -0.125710\n",
            "2  -0.925532  0.067722\n",
            "19  0.075160  0.256968\n",
            "0  -0.879657  0.326835\n",
            "12  1.537912  0.340183\n",
            "8  -0.577516  0.350865\n",
            "1   1.273879  0.716188\n",
            "9  -1.498580  0.758754\n",
            "14 -0.316076  0.777628\n",
            "5   1.786449  0.966908\n",
            "17  2.088756  1.118325\n",
            "11 -1.319749  1.281707\n",
            "6   0.105005  2.571382\n"
          ],
          "name": "stdout"
        }
      ]
    },
    {
      "cell_type": "code",
      "metadata": {
        "id": "myup8Ebit4fN",
        "colab_type": "code",
        "colab": {
          "base_uri": "https://localhost:8080/",
          "height": 357
        },
        "outputId": "75012ab2-b770-4873-d2b2-077165ca669f"
      },
      "source": [
        "import numpy as np\n",
        "import pandas as pd\n",
        "df = pd.DataFrame({\"int\": [1, np.nan, np.nan, 32],\n",
        "                   \"str\": [\"python\", \"ai\", np.nan, np.nan],\n",
        "                   \"flt\": [5.5, 4.2, -1.2, np.nan]})\n",
        "print(df)\n",
        "\n",
        "# df成分に対してNaNの地位をTrueとしたブールの値のデータフレームを返す\n",
        "print(df.isnull()) # notnull()を使うと、TrueとFalseが逆の処理になる。\n",
        "\n",
        "# \"int\"列にNaNがある行の削除\n",
        "print(df.dropna(subset=[\"int\"]))\n",
        "\n",
        "# NaNがある行を全て削除する\n",
        "print(df.dropna())\n",
        "\n",
        "# NaNを全て0に置換する\n",
        "print(df.fillna(0)) # 第一引数にmethod=\"ffill\" 第二引数にlimtit=数字 とすることで指定した数字までは前のデータを使ってNaNを埋めることができます\n",
        "\n"
      ],
      "execution_count": 5,
      "outputs": [
        {
          "output_type": "stream",
          "text": [
            "    int     str  flt\n",
            "0   1.0  python  5.5\n",
            "1   NaN      ai  4.2\n",
            "2   NaN     NaN -1.2\n",
            "3  32.0     NaN  NaN\n",
            "     int    str    flt\n",
            "0  False  False  False\n",
            "1   True  False  False\n",
            "2   True   True  False\n",
            "3  False   True   True\n",
            "    int     str  flt\n",
            "0   1.0  python  5.5\n",
            "3  32.0     NaN  NaN\n",
            "   int     str  flt\n",
            "0  1.0  python  5.5\n",
            "    int     str  flt\n",
            "0   1.0  python  5.5\n",
            "1   0.0      ai  4.2\n",
            "2   0.0       0 -1.2\n",
            "3  32.0       0  0.0\n"
          ],
          "name": "stdout"
        }
      ]
    },
    {
      "cell_type": "code",
      "metadata": {
        "id": "lvOuzB9DvFbV",
        "colab_type": "code",
        "colab": {
          "base_uri": "https://localhost:8080/",
          "height": 527
        },
        "outputId": "a3481180-e53d-4334-cba9-003619056910"
      },
      "source": [
        "import numpy as np\n",
        "import pandas as pd\n",
        "df2 = pd.DataFrame({\"int\": [1, np.nan, np.nan, 32],\n",
        "                   \"str\": [\"python\", \"ai\", np.nan, np.nan],\n",
        "                   \"flt\": [5.5, 4.2, -1.2, np.nan]})\n",
        "\n",
        "# int列だけ0で補完\n",
        "print(df2.fillna({\"int\": 0})) # 特定の列に対しては辞書型を用いる\n",
        "\n",
        "# 列ごとに異なる値を使いたい時は複数のキーを渡す。\n",
        "print(df2.fillna({\"int\":0,\"str\":\"ai\"}))\n",
        "\n",
        "# 特定の列(例えばflt)を削除\n",
        "print(df2.drop(labels=\"flt\",axis=1))\n",
        "\"\"\"\n",
        "  int str\n",
        "0 1.0 python\n",
        "1 NaN ai\n",
        "2 NaN NaN\n",
        "3 32.0  NaN\n",
        "\"\"\"\n",
        "\n",
        "# 複数の列を削除\n",
        "print(df2.drop(labels=[\"flt\", \"str\"],axis=1))\n",
        "\"\"\"\n",
        "  int\n",
        "0 1.0\n",
        "1 NaN\n",
        "2 NaN\n",
        "3 32.0\n",
        "\"\"\"\n",
        "\n",
        "# indexを指定すると行を消すこともできます\n",
        "print(df2.drop(index=1, axis=0))\n",
        "\"\"\"\n",
        "int str flt\n",
        "0 1.0 python  5.5\n",
        "2 NaN NaN -1.2\n",
        "3 32.0  NaN NaN\n",
        "\"\"\"\n",
        "\n",
        "# 元のデータに反映して削除するにはinplaceオプションにTrueを渡します\n",
        "df2.drop(labels=\"flt\", axis=1, inplace=True)\n",
        "print(df2)\n",
        "\n",
        "\"\"\"\n",
        "int str\n",
        "0 1.0 python\n",
        "1 NaN ai\n",
        "2 NaN NaN\n",
        "3 32.0  NaN\n",
        "\"\"\""
      ],
      "execution_count": 21,
      "outputs": [
        {
          "output_type": "stream",
          "text": [
            "    int     str  flt\n",
            "0   1.0  python  5.5\n",
            "1   0.0      ai  4.2\n",
            "2   0.0     NaN -1.2\n",
            "3  32.0     NaN  NaN\n",
            "    int     str  flt\n",
            "0   1.0  python  5.5\n",
            "1   0.0      ai  4.2\n",
            "2   0.0      ai -1.2\n",
            "3  32.0      ai  NaN\n",
            "    int     str\n",
            "0   1.0  python\n",
            "1   NaN      ai\n",
            "2   NaN     NaN\n",
            "3  32.0     NaN\n",
            "    int\n",
            "0   1.0\n",
            "1   NaN\n",
            "2   NaN\n",
            "3  32.0\n",
            "    int     str  flt\n",
            "0   1.0  python  5.5\n",
            "2   NaN     NaN -1.2\n",
            "3  32.0     NaN  NaN\n",
            "    int     str\n",
            "0   1.0  python\n",
            "1   NaN      ai\n",
            "2   NaN     NaN\n",
            "3  32.0     NaN\n"
          ],
          "name": "stdout"
        },
        {
          "output_type": "execute_result",
          "data": {
            "text/plain": [
              "'\\nint str\\n0 1.0 python\\n1 NaN ai\\n2 NaN NaN\\n3 32.0  NaN\\n'"
            ]
          },
          "metadata": {
            "tags": []
          },
          "execution_count": 21
        }
      ]
    },
    {
      "cell_type": "code",
      "metadata": {
        "id": "rADEIgwb7BlX",
        "colab_type": "code",
        "colab": {
          "base_uri": "https://localhost:8080/",
          "height": 136
        },
        "outputId": "82a167a3-662c-4e18-c09c-36f0cbbd76a6"
      },
      "source": [
        "import numpy as np\n",
        "import pandas as pd\n",
        "df3 = pd.DataFrame(np.random.rand(6,3))\n",
        "print(df3) # データの確認"
      ],
      "execution_count": 22,
      "outputs": [
        {
          "output_type": "stream",
          "text": [
            "          0         1         2\n",
            "0  0.592931  0.023838  0.957999\n",
            "1  0.512759  0.930993  0.226496\n",
            "2  0.533943  0.044540  0.760218\n",
            "3  0.969174  0.466825  0.302909\n",
            "4  0.409476  0.608350  0.419200\n",
            "5  0.424081  0.870054  0.330136\n"
          ],
          "name": "stdout"
        }
      ]
    },
    {
      "cell_type": "code",
      "metadata": {
        "id": "Pq8jnJsD8HFS",
        "colab_type": "code",
        "colab": {
          "base_uri": "https://localhost:8080/",
          "height": 136
        },
        "outputId": "1d7273e0-1954-4b52-fd7e-c0eae3e66881"
      },
      "source": [
        "import numpy as np\n",
        "import pandas as pd\n",
        "d1 = {\"data1\": [\"a\",\"b\",\"c\",\"d\",\"c\",\"a\"], \"data2\": range(6)}\n",
        "df1 = pd.DataFrame(d1)\n",
        "print(df1)"
      ],
      "execution_count": 26,
      "outputs": [
        {
          "output_type": "stream",
          "text": [
            "  data1  data2\n",
            "0     a      0\n",
            "1     b      1\n",
            "2     c      2\n",
            "3     d      3\n",
            "4     c      4\n",
            "5     a      5\n"
          ],
          "name": "stdout"
        }
      ]
    },
    {
      "cell_type": "code",
      "metadata": {
        "id": "7fWtpRZx9WCS",
        "colab_type": "code",
        "colab": {
          "base_uri": "https://localhost:8080/",
          "height": 513
        },
        "outputId": "55456ed0-ab91-460d-d392-fc55c1570192"
      },
      "source": [
        "import numpy as np\n",
        "import matplotlib.pyplot as plt\n",
        "\n",
        "x=np.arange(-5,5,0.1)# -5から5まで0.1区切りで配列を作る\n",
        "y=np.sin(x)# 配列xの値に関してそれぞれsin(x)を求めてy軸の配列を生成\n",
        "Y=np.arange(-5,5,0.1)# -5から5まで0.1区切りで配列を作る。１次関数の例\n",
        "\n",
        "plt.plot(x,y) # この場合のplot関数の第一引数xは、x軸に対応し、第二引数のyがy軸にあたります。\n",
        "plt.show()\n",
        "\n",
        "plt.plot(x,Y)\n",
        "plt.show()"
      ],
      "execution_count": 29,
      "outputs": [
        {
          "output_type": "display_data",
          "data": {
            "image/png": "[encoded data removed]",
            "text/plain": [
              "<Figure size 432x288 with 1 Axes>"
            ]
          },
          "metadata": {
            "tags": []
          }
        },
        {
          "output_type": "display_data",
          "data": {
            "image/png": "[encoded data removed]",
            "text/plain": [
              "<Figure size 432x288 with 1 Axes>"
            ]
          },
          "metadata": {
            "tags": []
          }
        }
      ]
    },
    {
      "cell_type": "code",
      "metadata": {
        "id": "TWUoQyC3Isl4",
        "colab_type": "code",
        "colab": {
          "base_uri": "https://localhost:8080/",
          "height": 513
        },
        "outputId": "123eef93-8cb0-45fb-df25-85e46e8722d3"
      },
      "source": [
        "import matplotlib.pyplot as plt\n",
        "data = [2, 4, 6, 3, 5, 8, 4, 5]\n",
        "plt.plot(data)\n",
        "plt.show()\n",
        "\n",
        "# r--は赤の点線 b--は青の点線 g-- は緑の点線\n",
        "plt.plot([1,2,3,4],[1,5,10,15],\"r--\") # 引数にオプションを渡さずに 色 に -- をつけると色 + 点線で表現できます\n",
        "plt.show()"
      ],
      "execution_count": 30,
      "outputs": [
        {
          "output_type": "display_data",
          "data": {
            "image/png": "[encoded data removed]",
            "text/plain": [
              "<Figure size 432x288 with 1 Axes>"
            ]
          },
          "metadata": {
            "tags": []
          }
        },
        {
          "output_type": "display_data",
          "data": {
            "image/png": "[encoded data removed]",
            "text/plain": [
              "<Figure size 432x288 with 1 Axes>"
            ]
          },
          "metadata": {
            "tags": []
          }
        }
      ]
    },
    {
      "cell_type": "code",
      "metadata": {
        "id": "p0FyFGxOJE0V",
        "colab_type": "code",
        "colab": {
          "base_uri": "https://localhost:8080/",
          "height": 265
        },
        "outputId": "f6ad27fe-c62d-46cf-c665-7d51d5a72303"
      },
      "source": [
        "import matplotlib.pyplot as plt\n",
        "data = [20, 40, 60, 80 ]\n",
        "y_data = [10, 5, 3, 1]\n",
        "plt.plot(data, y_data, marker=\"o\")\n",
        "plt.savefig(\"graph.png\")\n",
        "plt.show()"
      ],
      "execution_count": 31,
      "outputs": [
        {
          "output_type": "display_data",
          "data": {
            "image/png": "[encoded data removed]",
            "text/plain": [
              "<Figure size 432x288 with 1 Axes>"
            ]
          },
          "metadata": {
            "tags": []
          }
        }
      ]
    },
    {
      "cell_type": "code",
      "metadata": {
        "id": "nNHD62euJrg4",
        "colab_type": "code",
        "colab": {
          "base_uri": "https://localhost:8080/",
          "height": 529
        },
        "outputId": "25c31698-f3aa-418c-c075-4525aca805d3"
      },
      "source": [
        "import matplotlib.pyplot as plt\n",
        "a = range(0, 7)\n",
        "b = [55,21,61,98,85,52,99]\n",
        "plt.bar(a, b)\n",
        "# plt.barh(a, b) # 横棒の棒グラフ\n",
        "plt.show()\n",
        "\n",
        "import matplotlib.pyplot as plt\n",
        "import numpy as np\n",
        "\n",
        "# 棒グラフ\n",
        "m = (\"1\", \"2\", \"3\", \"4\", \"5\", \"6\", \"7\",\"8\",\"9\",\"10\",\"11\",\"12\")\n",
        "y_pos = np.arange(len(m))\n",
        "# 下記sales変数内の数値を変更して、色々実行してみてください。\n",
        "sales = [10 ,18 ,32,54,65,96, 120, 140, 145,162, 188, 202]\n",
        "\n",
        "plt.bar(y_pos, sales, alpha=0.5)\n",
        "plt.ylabel(\"Usage\")\n",
        "plt.title(\"Sales Trends\") # 売上推移\n",
        "plt.show()"
      ],
      "execution_count": 34,
      "outputs": [
        {
          "output_type": "display_data",
          "data": {
            "image/png": "[encoded data removed]",
            "text/plain": [
              "<Figure size 432x288 with 1 Axes>"
            ]
          },
          "metadata": {
            "tags": []
          }
        },
        {
          "output_type": "display_data",
          "data": {
            "image/png": "[encoded data removed]",
            "text/plain": [
              "<Figure size 432x288 with 1 Axes>"
            ]
          },
          "metadata": {
            "tags": []
          }
        }
      ]
    },
    {
      "cell_type": "code",
      "metadata": {
        "id": "h9rpzHaeK3ND",
        "colab_type": "code",
        "colab": {
          "base_uri": "https://localhost:8080/",
          "height": 265
        },
        "outputId": "56736207-9940-4b1d-ceef-ad140ab0bea3"
      },
      "source": [
        "import matplotlib.pyplot as plt\n",
        "a = range(0, 7)\n",
        "b = [55,21,61,98,85,52,99]\n",
        "plt.barh(a, b)\n",
        "# plt.barh(a, b) # 横棒の棒グラフ\n",
        "plt.show()"
      ],
      "execution_count": 35,
      "outputs": [
        {
          "output_type": "display_data",
          "data": {
            "image/png": "[encoded data removed]",
            "text/plain": [
              "<Figure size 432x288 with 1 Axes>"
            ]
          },
          "metadata": {
            "tags": []
          }
        }
      ]
    },
    {
      "cell_type": "code",
      "metadata": {
        "id": "tC6doemaQE9S",
        "colab_type": "code",
        "colab": {
          "base_uri": "https://localhost:8080/",
          "height": 265
        },
        "outputId": "c4f0ab78-b38b-4b12-8537-794d1a4e52b0"
      },
      "source": [
        "import matplotlib.pyplot as plt\n",
        "x = [10, 51, 44, 23, 55, 95]\n",
        "y = [5, 125, 2, 55, 19, 55]\n",
        "plt.scatter(x,y)\n",
        "plt.show()"
      ],
      "execution_count": 36,
      "outputs": [
        {
          "output_type": "display_data",
          "data": {
            "image/png": "[encoded data removed]",
            "text/plain": [
              "<Figure size 432x288 with 1 Axes>"
            ]
          },
          "metadata": {
            "tags": []
          }
        }
      ]
    },
    {
      "cell_type": "code",
      "metadata": {
        "id": "p2lxgCJuQpUL",
        "colab_type": "code",
        "colab": {
          "base_uri": "https://localhost:8080/",
          "height": 479
        },
        "outputId": "d0feaf28-3511-4f42-d436-7813177e8fdb"
      },
      "source": [
        "import matplotlib.pyplot as plt\n",
        "labels = [\"A\", \"B\", \"C\", \"D\", \"E\"]\n",
        "data = [54, 32, 18, 44, 29]\n",
        "ex = [0.1, 0, 0, 0, 0]\n",
        "# autopct=\"%1.1f%%\"は小数点の表示桁数になります。1.1とすると1つ。1.2とすると２つになります。\n",
        "# explodeオプションで1つめの要素を10%ずらしています。これにより少し目立たせることが可能です。\n",
        "#counterclockオプションでFalseにするとリストの定義した順に表示になります。\n",
        "# これがTrueになると反時計周りに円グラフの要素が構成されます。\n",
        "plt.pie(data, explode=ex, labels=labels, autopct=\"%1.1f%%\", counterclock=False)\n",
        "plt.show()\n",
        "\n",
        "labels = [\"Python\", \"Ruby\", \"Java\", \"C++\", \"PHP\"]\n",
        "sizes  = [40, 12, 24, 16, 9]\n",
        "colors =[\"navy\", \"yellow\", \"blue\", \"gold\", \"tomato\"]\n",
        "plt.pie(sizes, labels=labels, colors=colors)\n",
        "plt.axis(\"equal\") # この行を追加すると綺麗な円グラフが描けます。\n",
        "plt.show()"
      ],
      "execution_count": 37,
      "outputs": [
        {
          "output_type": "display_data",
          "data": {
            "image/png": "[encoded data removed]",
            "text/plain": [
              "<Figure size 432x288 with 1 Axes>"
            ]
          },
          "metadata": {
            "tags": []
          }
        },
        {
          "output_type": "display_data",
          "data": {
            "image/png": "[encoded data removed]",
            "text/plain": [
              "<Figure size 432x288 with 1 Axes>"
            ]
          },
          "metadata": {
            "tags": []
          }
        }
      ]
    },
    {
      "cell_type": "code",
      "metadata": {
        "id": "94N4NiX5SLtd",
        "colab_type": "code",
        "colab": {
          "base_uri": "https://localhost:8080/",
          "height": 265
        },
        "outputId": "45e1cc17-62f5-414a-bf0e-acd7fee63a61"
      },
      "source": [
        "import matplotlib.pyplot as plt\n",
        "import numpy as np\n",
        "\n",
        "# 平均10、標準偏差10の正規乱数を100件生成\n",
        "x = np.random.normal(10, 10, 1000)\n",
        "\n",
        "plt.hist(x)\n",
        "# ヒストグラムを表示\n",
        "plt.show()\n",
        "# 引数にbins=数字でヒストグラムの棒の数を指定できます。\n",
        "# plt.hist(x, bins=16)\n",
        "# orientation=\"horizontal\"を指定することで横棒として描画も可能です。"
      ],
      "execution_count": 38,
      "outputs": [
        {
          "output_type": "display_data",
          "data": {
            "image/png": "[encoded data removed]",
            "text/plain": [
              "<Figure size 432x288 with 1 Axes>"
            ]
          },
          "metadata": {
            "tags": []
          }
        }
      ]
    },
    {
      "cell_type": "code",
      "metadata": {
        "id": "EAC_y4BBUIgP",
        "colab_type": "code",
        "colab": {
          "base_uri": "https://localhost:8080/",
          "height": 318
        },
        "outputId": "307e5c99-2877-409f-b6da-e57e0f210a52"
      },
      "source": [
        "%matplotlib inline\n",
        "# Jupyter Notebookを利用している方のみ記述してください。\n",
        "import matplotlib.pyplot as plt\n",
        "import numpy as np\n",
        "\n",
        "# ある10人の生徒の身長\n",
        "math = [162, 168, 172, 181, 176, 168, 173, 175, 162, 169]\n",
        "x = np.array(math)\n",
        "plt.title('height')\n",
        "plt.grid() # 横線ラインを入れることができます。\n",
        "\n",
        "#hight=(x,x)\n",
        "#print(hight) #二個並べる時はこんな感じ\n",
        "\n",
        "plt.boxplot(x)\n",
        "plt.show()\n",
        "\n",
        "\"\"\"\n",
        "# 下記コードでも同様に描画可能です。\n",
        "\n",
        "import matplotlib.pyplot as plt\n",
        "# ある10人の生徒の身長\n",
        "math = [162, 168, 172, 181, 176, 168, 173, 175, 162, 169]\n",
        "# 箱ひげ図\n",
        "fig, ax = plt.subplots()\n",
        "bp = ax.boxplot(math)\n",
        "plt.title('height')\n",
        "plt.grid() # 横線ラインを入れることができます。\n",
        "# 描画\n",
        "plt.show()\n",
        "\"\"\""
      ],
      "execution_count": 48,
      "outputs": [
        {
          "output_type": "display_data",
          "data": {
            "image/png": "[encoded data removed]",
            "text/plain": [
              "<Figure size 432x288 with 1 Axes>"
            ]
          },
          "metadata": {
            "tags": []
          }
        },
        {
          "output_type": "execute_result",
          "data": {
            "text/plain": [
              "\"\\n# 下記コードでも同様に描画可能です。\\n\\nimport matplotlib.pyplot as plt\\n# ある10人の生徒の身長\\nmath = [162, 168, 172, 181, 176, 168, 173, 175, 162, 169]\\n# 箱ひげ図\\nfig, ax = plt.subplots()\\nbp = ax.boxplot(math)\\nplt.title('height')\\nplt.grid() # 横線ラインを入れることができます。\\n# 描画\\nplt.show()\\n\""
            ]
          },
          "metadata": {
            "tags": []
          },
          "execution_count": 48
        }
      ]
    },
    {
      "cell_type": "code",
      "metadata": {
        "id": "amVMRHrNU9GQ",
        "colab_type": "code",
        "colab": {
          "base_uri": "https://localhost:8080/",
          "height": 281
        },
        "outputId": "6c602448-c278-4efa-e9e6-44970434ba7b"
      },
      "source": [
        "%matplotlib inline\n",
        "# Jupyter Notebookを利用している方のみ記述してください。\n",
        "import matplotlib.pyplot as plt\n",
        "\n",
        "# 数学の点数\n",
        "math = [82, 75, 50, 73, 65, 95, 78, 93, 71, 83]\n",
        "# 英語の点数\n",
        "english = [77, 92, 62, 77, 64, 45, 28, 60, 37, 86]\n",
        "\n",
        "# 点数のタプル\n",
        "points = (math, english) #ダブルの型で作ると複数プロットに使える\n",
        "\n",
        "# 箱ひげ図\n",
        "fig, ax = plt.subplots()\n",
        "\n",
        "\n",
        "bp = ax.boxplot(points) # 複数指定する場合はタプル型で渡します。\n",
        "ax.set_xticklabels(['math', 'english'])\n",
        "\n",
        "plt.title('exam')\n",
        "plt.grid() # 横線ラインを入れることができます。\n",
        "\n",
        "# 描画\n",
        "plt.show()"
      ],
      "execution_count": 49,
      "outputs": [
        {
          "output_type": "display_data",
          "data": {
            "image/png": "[encoded data removed]",
            "text/plain": [
              "<Figure size 432x288 with 1 Axes>"
            ]
          },
          "metadata": {
            "tags": []
          }
        }
      ]
    },
    {
      "cell_type": "code",
      "metadata": {
        "id": "9kKx0uXLXGSO",
        "colab_type": "code",
        "colab": {
          "base_uri": "https://localhost:8080/",
          "height": 281
        },
        "outputId": "ffd0e38c-e269-47cd-fd0a-69251c3d49cb"
      },
      "source": [
        "import matplotlib.pyplot as plt\n",
        "x1, y1 = range(0, 5), [10,41,44,29,85]\n",
        "x2, y2 = range(0, 5), [59,55,77,15,47]\n",
        "\n",
        "fig = plt.figure()\n",
        "\n",
        "# 1行2列の1番目\n",
        "a1 = fig.add_subplot(1, 2, 1) # 第3引数の1は左側を意味しています\n",
        "a1.bar(x1, y1)\n",
        "a1.set_title(\"A\")\n",
        "\n",
        "a2 = fig.add_subplot(1, 2, 2) # 第3引数の2は右側を意味しています\n",
        "a2.bar(x2, y2)\n",
        "a2.set_title(\"B\")\n",
        "\n",
        "plt.show()"
      ],
      "execution_count": 51,
      "outputs": [
        {
          "output_type": "display_data",
          "data": {
            "image/png": "[encoded data removed]",
            "text/plain": [
              "<Figure size 432x288 with 2 Axes>"
            ]
          },
          "metadata": {
            "tags": []
          }
        }
      ]
    },
    {
      "cell_type": "code",
      "metadata": {
        "id": "HBYY6sNcXo3t",
        "colab_type": "code",
        "colab": {}
      },
      "source": [
        ""
      ],
      "execution_count": 0,
      "outputs": []
    }
  ]
}
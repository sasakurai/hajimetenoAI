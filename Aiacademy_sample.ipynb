{
  "nbformat": 4,
  "nbformat_minor": 0,
  "metadata": {
    "colab": {
      "name": "Aiacademy_sample.ipynb",
      "provenance": [],
      "include_colab_link": true
    },
    "kernelspec": {
      "name": "python3",
      "display_name": "Python 3"
    },
    "accelerator": "GPU"
  },
  "cells": [
    {
      "cell_type": "markdown",
      "metadata": {
        "id": "view-in-github",
        "colab_type": "text"
      },
      "source": [
        "<a href=\"https://colab.research.google.com/github/sasakurai/hajimetenoAI/blob/master/Aiacademy_sample.ipynb\" target=\"_parent\"><img src=\"https://colab.research.google.com/assets/colab-badge.svg\" alt=\"Open In Colab\"/></a>"
      ]
    },
    {
      "cell_type": "code",
      "metadata": {
        "id": "F8IBvQC_X28o",
        "colab_type": "code",
        "outputId": "053e0cfb-dcbc-489a-ff73-4ba7b904511b",
        "colab": {
          "base_uri": "https://localhost:8080/",
          "height": 34
        }
      },
      "source": [
        "print(\"hello,Python\")"
      ],
      "execution_count": 0,
      "outputs": [
        {
          "output_type": "stream",
          "text": [
            "hello,Python\n"
          ],
          "name": "stdout"
        }
      ]
    },
    {
      "cell_type": "code",
      "metadata": {
        "id": "UZw7xp94YHpv",
        "colab_type": "code",
        "outputId": "b1ee4374-f1c7-41ce-bec9-7eecd2f290ed",
        "colab": {
          "base_uri": "https://localhost:8080/",
          "height": 265
        }
      },
      "source": [
        "import numpy as np\n",
        "import matplotlib.pyplot as plt\n",
        "\n",
        "x = np.arange(0, 10, 0.1)\n",
        "plt.plot(x)\n",
        "plt.show()"
      ],
      "execution_count": 0,
      "outputs": [
        {
          "output_type": "display_data",
          "data": {
            "image/png": "[encoded data removed]",
            "text/plain": [
              "<Figure size 432x288 with 1 Axes>"
            ]
          },
          "metadata": {
            "tags": []
          }
        }
      ]
    },
    {
      "cell_type": "code",
      "metadata": {
        "id": "SUABXeJvY9DI",
        "colab_type": "code",
        "colab": {}
      },
      "source": [
        "import tensorflow as tf\n",
        "tf.test.gpu_device_name()"
      ],
      "execution_count": 0,
      "outputs": []
    },
    {
      "cell_type": "code",
      "metadata": {
        "id": "7j7tas2eZUcR",
        "colab_type": "code",
        "colab": {}
      },
      "source": [
        "!cat /proc/cpuinfo\n",
        "\n",
        "!cat /proc/meminfo"
      ],
      "execution_count": 0,
      "outputs": []
    },
    {
      "cell_type": "code",
      "metadata": {
        "id": "5HHTZOCvcCsG",
        "colab_type": "code",
        "outputId": "10399003-1010-490a-e0ba-c5cd33145e70",
        "colab": {
          "base_uri": "https://localhost:8080/",
          "height": 34
        }
      },
      "source": [
        "from sklearn import datasets\n",
        "from sklearn import svm\n",
        "\n",
        "# Irisの測定データの読み込み\n",
        "iris = datasets.load_iris()\n",
        "\n",
        "# print(iris.data)\n",
        "# print(iris.data.shape) # 形状のデータ\n",
        "\n",
        "# データ数\n",
        "# num = len(iris.data)\n",
        "# print(num)\n",
        "\n",
        "\"\"\"\n",
        "冒頭のはじめににも書きました通り、現在のテキストのコードでワーニングが出る場合があります。\n",
        "ワーニングは致命的なエラーではないので、動作には問題ありません。そのため一旦気にせず進めてください。\n",
        "\"\"\"\n",
        "clf = svm.SVC(gamma=\"auto\")\n",
        "clf.fit(iris.data, iris.target)\n",
        "\n",
        "print(clf.predict([[1.4, 1.8, 3.9, 0.5]]))"
      ],
      "execution_count": 0,
      "outputs": [
        {
          "output_type": "stream",
          "text": [
            "[2]\n"
          ],
          "name": "stdout"
        }
      ]
    },
    {
      "cell_type": "code",
      "metadata": {
        "id": "wk9Q_xD_eLGQ",
        "colab_type": "code",
        "outputId": "412e621f-7097-4428-eb26-4cfbd5d4fe2b",
        "colab": {
          "base_uri": "https://localhost:8080/",
          "height": 105
        }
      },
      "source": [
        "\"\"\"\n",
        "from sklearn import datasets\n",
        "from sklearn import svm\n",
        "\n",
        "# Irisの測定データの読み込み\n",
        "iris = datasets.load_iris()\n",
        "clf = svm.SVC()\n",
        "clf.fit(iris.data, iris.target)\n",
        "print(clf.predict([[1.4, 3.5, 5.1, 0.2], [6.5, 2.6, 4.4, 1.4], [5.9, 3.0, 5.2, 1.5]]))\n",
        "\"\"\"\n",
        "\n",
        "from sklearn.model_selection import train_test_split\n",
        "from sklearn.ensemble import RandomForestClassifier\n",
        "from sklearn import svm\n",
        "from sklearn.metrics import accuracy_score\n",
        "\n",
        "# データの読み込み\n",
        "iris = datasets.load_iris()\n",
        "x, y = iris.data, iris.target\n",
        "\n",
        "# トレーニングデータとテストデータに分ける\n",
        "x_train, x_test, y_train, y_test = train_test_split(x, y, random_state=1)\n",
        "\n",
        "# モデルの選択\n",
        "model = svm.SVC()\n",
        "# 学習\n",
        "model.fit(x_train, y_train)\n",
        "\n",
        "# 評価\n",
        "pred = model.predict(x_test)\n",
        "print(accuracy_score(y_test, pred))\n",
        "\n",
        "# 学習済みモデルを使う\n",
        "print(model.predict([[1.4, 3.5, 5.1, 0.2]]))\n",
        "\n",
        "# 次のように、複数渡すことも可能\n",
        "# print(model.predict([[1.4, 3.5, 5.1, 0.2], [6.5, 2.6, 4.4, 1.4], [5.9, 3.0, 5.2, 1.5]]))"
      ],
      "execution_count": 0,
      "outputs": [
        {
          "output_type": "stream",
          "text": [
            "0.9736842105263158\n",
            "[2]\n"
          ],
          "name": "stdout"
        },
        {
          "output_type": "stream",
          "text": [
            "/usr/local/lib/python3.6/dist-packages/sklearn/svm/base.py:193: FutureWarning: The default value of gamma will change from 'auto' to 'scale' in version 0.22 to account better for unscaled features. Set gamma explicitly to 'auto' or 'scale' to avoid this warning.\n",
            "  \"avoid this warning.\", FutureWarning)\n"
          ],
          "name": "stderr"
        }
      ]
    },
    {
      "cell_type": "code",
      "metadata": {
        "id": "pk3ssE9gme9-",
        "colab_type": "code",
        "outputId": "5f3a4396-2716-4483-d70d-1cb0f3e12de0",
        "colab": {
          "base_uri": "https://localhost:8080/",
          "height": 136
        }
      },
      "source": [
        "import numpy as np\n",
        "\n",
        "x=np.array([1.0,2.0,3.0,4.0,5,0])\n",
        "print(x)\n",
        "# array()は、Pythonのリストを渡すことでNumPy 用の配列(numpy.ndarray)を生成します。\n",
        "\n",
        "x=np.array([1,2,3])\n",
        "print(x)\n",
        "print(type(x))\n",
        "\n",
        "my_list1=[1,2,3,4,5]\n",
        "my_array1=np.array(my_list1)# numpyのarrayを作る\n",
        "\n",
        "my_list2 = [10,20,30,40,50]\n",
        "my_lists = [my_list1, my_list2] # リストのリストを作る。\n",
        "#my_lists # [[1, 2, 3, 4, 5], [10, 20, 30, 40, 50]] # リストのリストが完成。\n",
        "\n",
        "# my_listsを使ってNumPyのアレイを使る。（多次元配列を作る）\n",
        "my_array2 = np.array(my_lists)\n",
        "print(my_array2) # 2行5列の配列ができる。\n",
        "\"\"\"\n",
        "array([[ 1,  2,  3,  4,  5],\n",
        "       [10, 20, 30, 40, 50]])\n",
        "\"\"\"\n",
        "\n",
        "a = np.array([1, 2, 3, 4])\n",
        "print(a.shape) # (4,)が出力される。これは1次元配列でかつ、4つ要素があることを意味します。\n",
        "\n",
        "b = np.array([[1, 2],[3,4]])\n",
        "print(b.shape) # (2, 2) これは行列で、2行2列を意味しています。\n"
      ],
      "execution_count": 0,
      "outputs": [
        {
          "output_type": "stream",
          "text": [
            "[1. 2. 3. 4. 5. 0.]\n",
            "[1 2 3]\n",
            "<class 'numpy.ndarray'>\n",
            "[[ 1  2  3  4  5]\n",
            " [10 20 30 40 50]]\n",
            "(4,)\n",
            "(2, 2)\n"
          ],
          "name": "stdout"
        }
      ]
    },
    {
      "cell_type": "code",
      "metadata": {
        "id": "7lSz9wfxmhJU",
        "colab_type": "code",
        "outputId": "fa49fa52-bf70-4daa-8b1c-726c69f788d6",
        "colab": {
          "base_uri": "https://localhost:8080/",
          "height": 340
        }
      },
      "source": [
        "# データの準備\n",
        "# 等間隔の数字\n",
        "# 0から9までの数字(配列)を生成\n",
        "x = np.arange(10)\n",
        "print(x)\n",
        "\n",
        "# reshape()は配列を形状に変換します\n",
        "x = np.arange(1, 10).reshape(3,3) # 3×3の多次元配列に変換\n",
        "y = np.arange(1, 10).reshape(3,3) # 3×3の多次元配列に変換\n",
        "\"\"\"\n",
        "xを下記のように書き換えることも可能\n",
        "x = np.reshape(x, (3,3))\n",
        "\"\"\"\n",
        "print(x)\n",
        "print(y)\n",
        "\n",
        "print(\"x+y\")\n",
        "print(x + y)\n",
        "print(\"x-y\")\n",
        "print(x - y)\n",
        "print(\"x*y\")\n",
        "print(x * y)"
      ],
      "execution_count": 0,
      "outputs": [
        {
          "output_type": "stream",
          "text": [
            "[0 1 2 3 4 5 6 7 8 9]\n",
            "[[1 2 3]\n",
            " [4 5 6]\n",
            " [7 8 9]]\n",
            "[[1 2 3]\n",
            " [4 5 6]\n",
            " [7 8 9]]\n",
            "x+y\n",
            "[[ 2  4  6]\n",
            " [ 8 10 12]\n",
            " [14 16 18]]\n",
            "x-y\n",
            "[[0 0 0]\n",
            " [0 0 0]\n",
            " [0 0 0]]\n",
            "x*y\n",
            "[[ 1  4  9]\n",
            " [16 25 36]\n",
            " [49 64 81]]\n"
          ],
          "name": "stdout"
        }
      ]
    }
  ]
}